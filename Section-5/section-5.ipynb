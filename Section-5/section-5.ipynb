{
 "cells": [
  {
   "cell_type": "code",
   "execution_count": 1,
   "metadata": {},
   "outputs": [],
   "source": [
    "# Library imports\n",
    "import pandas as pd\n",
    "\n",
    "from sklearn.metrics import classification_report\n",
    "from sklearn.model_selection import cross_val_score, train_test_split\n",
    "from sklearn.preprocessing import LabelEncoder, OneHotEncoder\n",
    "from sklearn.utils import shuffle\n",
    "from sklearn.naive_bayes import BernoulliNB\n",
    "from sklearn.tree import DecisionTreeClassifier\n",
    "from sklearn.ensemble import RandomForestClassifier\n",
    "\n",
    "import random\n",
    "random.seed(0)"
   ]
  },
  {
   "cell_type": "code",
   "execution_count": 22,
   "metadata": {},
   "outputs": [],
   "source": [
    "df = pd.read_csv(\n",
    "    \"car_data.csv\",\n",
    "    header=None,\n",
    "    names=[\"buying\", \"maint\", \"doors\", \"persons\", \"lug_boot\", \"safety\", \"class\"]\n",
    ").drop(\"persons\", axis=1)"
   ]
  },
  {
   "cell_type": "code",
   "execution_count": 23,
   "metadata": {},
   "outputs": [
    {
     "data": {
      "text/plain": [
       "vhigh    432\n",
       "high     432\n",
       "med      432\n",
       "low      432\n",
       "Name: buying, dtype: int64"
      ]
     },
     "execution_count": 23,
     "metadata": {},
     "output_type": "execute_result"
    }
   ],
   "source": [
    "df.buying.value_counts()"
   ]
  },
  {
   "cell_type": "code",
   "execution_count": 24,
   "metadata": {},
   "outputs": [],
   "source": [
    "df_shuffled = shuffle(df).reset_index(drop=True)"
   ]
  },
  {
   "cell_type": "code",
   "execution_count": 25,
   "metadata": {},
   "outputs": [],
   "source": [
    "X, y = df_shuffled.drop(\"buying\", axis=1), df_shuffled[[\"buying\"]]"
   ]
  },
  {
   "cell_type": "code",
   "execution_count": 26,
   "metadata": {},
   "outputs": [
    {
     "data": {
      "text/html": [
       "<div>\n",
       "<style scoped>\n",
       "    .dataframe tbody tr th:only-of-type {\n",
       "        vertical-align: middle;\n",
       "    }\n",
       "\n",
       "    .dataframe tbody tr th {\n",
       "        vertical-align: top;\n",
       "    }\n",
       "\n",
       "    .dataframe thead th {\n",
       "        text-align: right;\n",
       "    }\n",
       "</style>\n",
       "<table border=\"1\" class=\"dataframe\">\n",
       "  <thead>\n",
       "    <tr style=\"text-align: right;\">\n",
       "      <th></th>\n",
       "      <th>maint</th>\n",
       "      <th>doors</th>\n",
       "      <th>lug_boot</th>\n",
       "      <th>safety</th>\n",
       "      <th>class</th>\n",
       "    </tr>\n",
       "  </thead>\n",
       "  <tbody>\n",
       "    <tr>\n",
       "      <th>0</th>\n",
       "      <td>high</td>\n",
       "      <td>4</td>\n",
       "      <td>big</td>\n",
       "      <td>med</td>\n",
       "      <td>acc</td>\n",
       "    </tr>\n",
       "    <tr>\n",
       "      <th>1</th>\n",
       "      <td>low</td>\n",
       "      <td>3</td>\n",
       "      <td>med</td>\n",
       "      <td>low</td>\n",
       "      <td>unacc</td>\n",
       "    </tr>\n",
       "    <tr>\n",
       "      <th>2</th>\n",
       "      <td>vhigh</td>\n",
       "      <td>3</td>\n",
       "      <td>med</td>\n",
       "      <td>med</td>\n",
       "      <td>unacc</td>\n",
       "    </tr>\n",
       "    <tr>\n",
       "      <th>3</th>\n",
       "      <td>high</td>\n",
       "      <td>2</td>\n",
       "      <td>small</td>\n",
       "      <td>low</td>\n",
       "      <td>unacc</td>\n",
       "    </tr>\n",
       "    <tr>\n",
       "      <th>4</th>\n",
       "      <td>high</td>\n",
       "      <td>2</td>\n",
       "      <td>small</td>\n",
       "      <td>high</td>\n",
       "      <td>acc</td>\n",
       "    </tr>\n",
       "    <tr>\n",
       "      <th>...</th>\n",
       "      <td>...</td>\n",
       "      <td>...</td>\n",
       "      <td>...</td>\n",
       "      <td>...</td>\n",
       "      <td>...</td>\n",
       "    </tr>\n",
       "    <tr>\n",
       "      <th>1723</th>\n",
       "      <td>high</td>\n",
       "      <td>3</td>\n",
       "      <td>big</td>\n",
       "      <td>low</td>\n",
       "      <td>unacc</td>\n",
       "    </tr>\n",
       "    <tr>\n",
       "      <th>1724</th>\n",
       "      <td>vhigh</td>\n",
       "      <td>2</td>\n",
       "      <td>small</td>\n",
       "      <td>high</td>\n",
       "      <td>unacc</td>\n",
       "    </tr>\n",
       "    <tr>\n",
       "      <th>1725</th>\n",
       "      <td>med</td>\n",
       "      <td>5more</td>\n",
       "      <td>small</td>\n",
       "      <td>med</td>\n",
       "      <td>acc</td>\n",
       "    </tr>\n",
       "    <tr>\n",
       "      <th>1726</th>\n",
       "      <td>med</td>\n",
       "      <td>5more</td>\n",
       "      <td>big</td>\n",
       "      <td>high</td>\n",
       "      <td>unacc</td>\n",
       "    </tr>\n",
       "    <tr>\n",
       "      <th>1727</th>\n",
       "      <td>low</td>\n",
       "      <td>3</td>\n",
       "      <td>med</td>\n",
       "      <td>med</td>\n",
       "      <td>unacc</td>\n",
       "    </tr>\n",
       "  </tbody>\n",
       "</table>\n",
       "<p>1728 rows × 5 columns</p>\n",
       "</div>"
      ],
      "text/plain": [
       "      maint  doors lug_boot safety  class\n",
       "0      high      4      big    med    acc\n",
       "1       low      3      med    low  unacc\n",
       "2     vhigh      3      med    med  unacc\n",
       "3      high      2    small    low  unacc\n",
       "4      high      2    small   high    acc\n",
       "...     ...    ...      ...    ...    ...\n",
       "1723   high      3      big    low  unacc\n",
       "1724  vhigh      2    small   high  unacc\n",
       "1725    med  5more    small    med    acc\n",
       "1726    med  5more      big   high  unacc\n",
       "1727    low      3      med    med  unacc\n",
       "\n",
       "[1728 rows x 5 columns]"
      ]
     },
     "execution_count": 26,
     "metadata": {},
     "output_type": "execute_result"
    }
   ],
   "source": [
    "X"
   ]
  },
  {
   "cell_type": "code",
   "execution_count": 41,
   "metadata": {},
   "outputs": [
    {
     "name": "stderr",
     "output_type": "stream",
     "text": [
      "/Library/Frameworks/Python.framework/Versions/3.8/lib/python3.8/site-packages/sklearn/preprocessing/_label.py:115: DataConversionWarning: A column-vector y was passed when a 1d array was expected. Please change the shape of y to (n_samples, ), for example using ravel().\n",
      "  y = column_or_1d(y, warn=True)\n"
     ]
    }
   ],
   "source": [
    "label_encoder = LabelEncoder()\n",
    "one_hot_encoder = OneHotEncoder(drop='first')\n",
    "X_transformed = one_hot_encoder.fit_transform(X)\n",
    "y_transformed = label_encoder.fit_transform(y)"
   ]
  },
  {
   "cell_type": "code",
   "execution_count": 28,
   "metadata": {},
   "outputs": [
    {
     "data": {
      "text/plain": [
       "(1728,)"
      ]
     },
     "execution_count": 28,
     "metadata": {},
     "output_type": "execute_result"
    }
   ],
   "source": [
    "y_transformed.shape"
   ]
  },
  {
   "cell_type": "code",
   "execution_count": 29,
   "metadata": {},
   "outputs": [
    {
     "data": {
      "text/plain": [
       "(1728, 13)"
      ]
     },
     "execution_count": 29,
     "metadata": {},
     "output_type": "execute_result"
    }
   ],
   "source": [
    "X_transformed.shape"
   ]
  },
  {
   "cell_type": "code",
   "execution_count": 30,
   "metadata": {},
   "outputs": [],
   "source": [
    "X_train, X_test, y_train, y_test = train_test_split(X_transformed, y_transformed, test_size=0.2)"
   ]
  },
  {
   "cell_type": "code",
   "execution_count": 31,
   "metadata": {},
   "outputs": [
    {
     "name": "stdout",
     "output_type": "stream",
     "text": [
      "0.2795291949401022\n",
      "              precision    recall  f1-score   support\n",
      "\n",
      "           0       0.22      0.24      0.23        86\n",
      "           1       0.34      0.20      0.25        74\n",
      "           2       0.33      0.18      0.24        92\n",
      "           3       0.28      0.46      0.34        94\n",
      "\n",
      "    accuracy                           0.28       346\n",
      "   macro avg       0.29      0.27      0.27       346\n",
      "weighted avg       0.29      0.28      0.27       346\n",
      "\n"
     ]
    }
   ],
   "source": [
    "# Naive Bayes\n",
    "classifier_nb = BernoulliNB()\n",
    "score_nb = cross_val_score(\n",
    "    classifier_nb, \n",
    "    X_transformed, y_transformed,\n",
    "    scoring=\"accuracy\"\n",
    ")\n",
    "print(score_nb.mean())\n",
    "\n",
    "classifier_nb.fit(X_train, y_train)\n",
    "y_pred = classifier_nb.predict(X_test)\n",
    "print(classification_report(y_test, y_pred))"
   ]
  },
  {
   "cell_type": "code",
   "execution_count": 32,
   "metadata": {},
   "outputs": [
    {
     "name": "stdout",
     "output_type": "stream",
     "text": [
      "0.2355382424394739\n",
      "              precision    recall  f1-score   support\n",
      "\n",
      "           0       0.18      0.16      0.17        86\n",
      "           1       0.29      0.43      0.35        74\n",
      "           2       0.12      0.02      0.04        92\n",
      "           3       0.28      0.43      0.34        94\n",
      "\n",
      "    accuracy                           0.25       346\n",
      "   macro avg       0.22      0.26      0.22       346\n",
      "weighted avg       0.22      0.25      0.22       346\n",
      "\n"
     ]
    }
   ],
   "source": [
    "from sklearn.svm import SVC\n",
    "classifier_svm = SVC()\n",
    "score_svm = cross_val_score(\n",
    "    classifier_svm, \n",
    "    X_transformed, y_transformed,\n",
    "    scoring=\"accuracy\"\n",
    ")\n",
    "print(score_svm.mean())\n",
    "\n",
    "classifier_svm.fit(X_train, y_train)\n",
    "y_pred = classifier_svm.predict(X_test)\n",
    "print(classification_report(y_test, y_pred))"
   ]
  },
  {
   "cell_type": "code",
   "execution_count": 33,
   "metadata": {},
   "outputs": [
    {
     "name": "stdout",
     "output_type": "stream",
     "text": [
      "0.10763675965485464\n",
      "              precision    recall  f1-score   support\n",
      "\n",
      "           0       0.08      0.15      0.11        86\n",
      "           1       0.15      0.18      0.16        74\n",
      "           2       0.02      0.01      0.01        92\n",
      "           3       0.15      0.09      0.11        94\n",
      "\n",
      "    accuracy                           0.10       346\n",
      "   macro avg       0.10      0.11      0.10       346\n",
      "weighted avg       0.10      0.10      0.09       346\n",
      "\n"
     ]
    }
   ],
   "source": [
    "# Decision Tree\n",
    "classifier_dt = DecisionTreeClassifier()\n",
    "score_dt = cross_val_score(\n",
    "    classifier_dt, \n",
    "    X_transformed, y_transformed,\n",
    "    scoring=\"accuracy\"\n",
    ")\n",
    "print(score_dt.mean())\n",
    "\n",
    "classifier_dt.fit(X_train, y_train)\n",
    "y_pred = classifier_dt.predict(X_test)\n",
    "print(classification_report(y_test, y_pred))"
   ]
  },
  {
   "cell_type": "code",
   "execution_count": 34,
   "metadata": {},
   "outputs": [
    {
     "name": "stdout",
     "output_type": "stream",
     "text": [
      "0.11342715925274356\n",
      "              precision    recall  f1-score   support\n",
      "\n",
      "           0       0.08      0.08      0.08        86\n",
      "           1       0.14      0.18      0.16        74\n",
      "           2       0.03      0.02      0.03        92\n",
      "           3       0.12      0.13      0.12        94\n",
      "\n",
      "    accuracy                           0.10       346\n",
      "   macro avg       0.09      0.10      0.10       346\n",
      "weighted avg       0.09      0.10      0.09       346\n",
      "\n"
     ]
    }
   ],
   "source": [
    "# Random Forest\n",
    "classifier_rf = RandomForestClassifier()\n",
    "score_rf = cross_val_score(\n",
    "    classifier_rf, \n",
    "    X_transformed, y_transformed,\n",
    "    scoring=\"accuracy\"\n",
    ")\n",
    "print(score_rf.mean())\n",
    "\n",
    "classifier_rf.fit(X_train, y_train)\n",
    "y_pred = classifier_rf.predict(X_test)\n",
    "print(classification_report(y_test, y_pred))"
   ]
  },
  {
   "attachments": {},
   "cell_type": "markdown",
   "metadata": {},
   "source": [
    "### Prediction with Naive Bayes Classifier"
   ]
  },
  {
   "cell_type": "code",
   "execution_count": 44,
   "metadata": {},
   "outputs": [],
   "source": [
    "classifier_nb.fit(X_transformed, y_transformed)\n",
    "X_prediction = pd.DataFrame({\"maint\":[\"high\"], \"doors\":[\"4\"], \"lug_boot\":[\"big\"], \"safety\":[\"high\"], \"class\":[\"good\"]})\n",
    "X_prediction = one_hot_encoder.transform(X_prediction)\n",
    "y_prediction = classifier_nb.predict(X_prediction)"
   ]
  },
  {
   "cell_type": "code",
   "execution_count": 46,
   "metadata": {},
   "outputs": [
    {
     "data": {
      "text/plain": [
       "array(['low'], dtype=object)"
      ]
     },
     "execution_count": 46,
     "metadata": {},
     "output_type": "execute_result"
    }
   ],
   "source": [
    "label_encoder.inverse_transform(y_prediction)"
   ]
  }
 ],
 "metadata": {
  "kernelspec": {
   "display_name": "Python 3",
   "language": "python",
   "name": "python3"
  },
  "language_info": {
   "codemirror_mode": {
    "name": "ipython",
    "version": 3
   },
   "file_extension": ".py",
   "mimetype": "text/x-python",
   "name": "python",
   "nbconvert_exporter": "python",
   "pygments_lexer": "ipython3",
   "version": "3.8.1"
  },
  "orig_nbformat": 4
 },
 "nbformat": 4,
 "nbformat_minor": 2
}
